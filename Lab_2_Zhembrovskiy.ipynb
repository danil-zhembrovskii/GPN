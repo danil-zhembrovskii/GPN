{
 "cells": [
  {
   "cell_type": "markdown",
   "id": "c09580d5",
   "metadata": {},
   "source": [
    "# Лабораторная 2. Кластеризация методом Kmeans\n",
    "Выполнил Жембровский Даниил  \n",
    "Задача: Определить количество кластеров методом Kmeans, на основе данных про потребление леденцов"
   ]
  },
  {
   "cell_type": "code",
   "execution_count": 2,
   "id": "e2d30afe",
   "metadata": {},
   "outputs": [],
   "source": [
    "import pandas as pd\n",
    "import matplotlib\n",
    "import matplotlib.pyplot as plt\n",
    "%matplotlib inline\n",
    "import os\n",
    "from sklearn.cluster import KMeans"
   ]
  },
  {
   "cell_type": "code",
   "execution_count": 19,
   "id": "2812f56f",
   "metadata": {},
   "outputs": [],
   "source": [
    "#задаю путь к рабочей папке\n",
    "os.chdir(\"C:/Users/danil/Desktop/Саморазвитие/ГПН/Lab_2\")\n",
    "os.environ[\"OMP_NUM_THREADS\"] = '1'"
   ]
  },
  {
   "cell_type": "code",
   "execution_count": 4,
   "id": "7526f5e2",
   "metadata": {},
   "outputs": [
    {
     "data": {
      "text/html": [
       "<div>\n",
       "<style scoped>\n",
       "    .dataframe tbody tr th:only-of-type {\n",
       "        vertical-align: middle;\n",
       "    }\n",
       "\n",
       "    .dataframe tbody tr th {\n",
       "        vertical-align: top;\n",
       "    }\n",
       "\n",
       "    .dataframe thead th {\n",
       "        text-align: right;\n",
       "    }\n",
       "</style>\n",
       "<table border=\"1\" class=\"dataframe\">\n",
       "  <thead>\n",
       "    <tr style=\"text-align: right;\">\n",
       "      <th></th>\n",
       "      <th>V1</th>\n",
       "      <th>V2</th>\n",
       "      <th>V3</th>\n",
       "      <th>V4</th>\n",
       "      <th>V5</th>\n",
       "      <th>V6</th>\n",
       "      <th>V7</th>\n",
       "      <th>V8</th>\n",
       "      <th>V9</th>\n",
       "      <th>V10</th>\n",
       "      <th>V11</th>\n",
       "    </tr>\n",
       "  </thead>\n",
       "  <tbody>\n",
       "    <tr>\n",
       "      <th>count</th>\n",
       "      <td>338.000000</td>\n",
       "      <td>338.000000</td>\n",
       "      <td>338.000000</td>\n",
       "      <td>338.000000</td>\n",
       "      <td>338.000000</td>\n",
       "      <td>338.000000</td>\n",
       "      <td>338.000000</td>\n",
       "      <td>338.000000</td>\n",
       "      <td>338.000000</td>\n",
       "      <td>338.000000</td>\n",
       "      <td>338.000000</td>\n",
       "    </tr>\n",
       "    <tr>\n",
       "      <th>mean</th>\n",
       "      <td>3.544379</td>\n",
       "      <td>3.526627</td>\n",
       "      <td>3.517751</td>\n",
       "      <td>3.411243</td>\n",
       "      <td>3.207101</td>\n",
       "      <td>3.204142</td>\n",
       "      <td>3.254438</td>\n",
       "      <td>3.289941</td>\n",
       "      <td>3.603550</td>\n",
       "      <td>3.550296</td>\n",
       "      <td>3.565089</td>\n",
       "    </tr>\n",
       "    <tr>\n",
       "      <th>std</th>\n",
       "      <td>0.955748</td>\n",
       "      <td>0.956410</td>\n",
       "      <td>0.990150</td>\n",
       "      <td>0.992311</td>\n",
       "      <td>0.867314</td>\n",
       "      <td>0.869725</td>\n",
       "      <td>0.844107</td>\n",
       "      <td>0.821784</td>\n",
       "      <td>0.969682</td>\n",
       "      <td>0.927082</td>\n",
       "      <td>0.942042</td>\n",
       "    </tr>\n",
       "    <tr>\n",
       "      <th>min</th>\n",
       "      <td>2.000000</td>\n",
       "      <td>2.000000</td>\n",
       "      <td>2.000000</td>\n",
       "      <td>2.000000</td>\n",
       "      <td>2.000000</td>\n",
       "      <td>2.000000</td>\n",
       "      <td>2.000000</td>\n",
       "      <td>2.000000</td>\n",
       "      <td>2.000000</td>\n",
       "      <td>2.000000</td>\n",
       "      <td>2.000000</td>\n",
       "    </tr>\n",
       "    <tr>\n",
       "      <th>25%</th>\n",
       "      <td>3.000000</td>\n",
       "      <td>3.000000</td>\n",
       "      <td>3.000000</td>\n",
       "      <td>3.000000</td>\n",
       "      <td>3.000000</td>\n",
       "      <td>3.000000</td>\n",
       "      <td>3.000000</td>\n",
       "      <td>3.000000</td>\n",
       "      <td>3.000000</td>\n",
       "      <td>3.000000</td>\n",
       "      <td>3.000000</td>\n",
       "    </tr>\n",
       "    <tr>\n",
       "      <th>50%</th>\n",
       "      <td>3.000000</td>\n",
       "      <td>3.000000</td>\n",
       "      <td>3.000000</td>\n",
       "      <td>3.000000</td>\n",
       "      <td>3.000000</td>\n",
       "      <td>3.000000</td>\n",
       "      <td>3.000000</td>\n",
       "      <td>3.000000</td>\n",
       "      <td>3.000000</td>\n",
       "      <td>3.000000</td>\n",
       "      <td>3.000000</td>\n",
       "    </tr>\n",
       "    <tr>\n",
       "      <th>75%</th>\n",
       "      <td>5.000000</td>\n",
       "      <td>5.000000</td>\n",
       "      <td>5.000000</td>\n",
       "      <td>4.000000</td>\n",
       "      <td>3.000000</td>\n",
       "      <td>3.000000</td>\n",
       "      <td>3.000000</td>\n",
       "      <td>3.000000</td>\n",
       "      <td>5.000000</td>\n",
       "      <td>5.000000</td>\n",
       "      <td>5.000000</td>\n",
       "    </tr>\n",
       "    <tr>\n",
       "      <th>max</th>\n",
       "      <td>5.000000</td>\n",
       "      <td>5.000000</td>\n",
       "      <td>5.000000</td>\n",
       "      <td>5.000000</td>\n",
       "      <td>5.000000</td>\n",
       "      <td>5.000000</td>\n",
       "      <td>5.000000</td>\n",
       "      <td>5.000000</td>\n",
       "      <td>5.000000</td>\n",
       "      <td>5.000000</td>\n",
       "      <td>5.000000</td>\n",
       "    </tr>\n",
       "  </tbody>\n",
       "</table>\n",
       "</div>"
      ],
      "text/plain": [
       "               V1          V2          V3          V4          V5          V6  \\\n",
       "count  338.000000  338.000000  338.000000  338.000000  338.000000  338.000000   \n",
       "mean     3.544379    3.526627    3.517751    3.411243    3.207101    3.204142   \n",
       "std      0.955748    0.956410    0.990150    0.992311    0.867314    0.869725   \n",
       "min      2.000000    2.000000    2.000000    2.000000    2.000000    2.000000   \n",
       "25%      3.000000    3.000000    3.000000    3.000000    3.000000    3.000000   \n",
       "50%      3.000000    3.000000    3.000000    3.000000    3.000000    3.000000   \n",
       "75%      5.000000    5.000000    5.000000    4.000000    3.000000    3.000000   \n",
       "max      5.000000    5.000000    5.000000    5.000000    5.000000    5.000000   \n",
       "\n",
       "               V7          V8          V9         V10         V11  \n",
       "count  338.000000  338.000000  338.000000  338.000000  338.000000  \n",
       "mean     3.254438    3.289941    3.603550    3.550296    3.565089  \n",
       "std      0.844107    0.821784    0.969682    0.927082    0.942042  \n",
       "min      2.000000    2.000000    2.000000    2.000000    2.000000  \n",
       "25%      3.000000    3.000000    3.000000    3.000000    3.000000  \n",
       "50%      3.000000    3.000000    3.000000    3.000000    3.000000  \n",
       "75%      3.000000    3.000000    5.000000    5.000000    5.000000  \n",
       "max      5.000000    5.000000    5.000000    5.000000    5.000000  "
      ]
     },
     "execution_count": 4,
     "metadata": {},
     "output_type": "execute_result"
    }
   ],
   "source": [
    "df = pd.read_csv(\"C:/Users/danil/Desktop/Саморазвитие/ГПН/Lab_2/Lab_2_data.csv\", sep = ';')\n",
    "df.describe()"
   ]
  },
  {
   "cell_type": "markdown",
   "id": "e1cf9d1e",
   "metadata": {},
   "source": [
    "Минимальная оценка - 2\n",
    "Максимальная оценка - 5\n",
    "Стандартизация не нужна"
   ]
  },
  {
   "cell_type": "code",
   "execution_count": 20,
   "id": "1aba340d",
   "metadata": {},
   "outputs": [
    {
     "data": {
      "text/plain": [
       "KMeans(max_iter=200, n_clusters=4, random_state=42)"
      ]
     },
     "execution_count": 20,
     "metadata": {},
     "output_type": "execute_result"
    }
   ],
   "source": [
    "# n_init - количество раз, когда алгоритм выбирает разные начальные значения центроидов\n",
    "# random_state - используется для управления используемым генератором случайных чисел\n",
    "# tol - допуск разницы в центрах кластеров двух последовательных итераций\n",
    "# verbose - показывать то, какие действия выполняет программа или нет\n",
    "model = KMeans(n_clusters = 4, max_iter = 200, random_state = 42, n_init = 10, verbose = 0, tol = 0.0001)\n",
    "model.fit(df)    # кластеризация"
   ]
  },
  {
   "cell_type": "code",
   "execution_count": 21,
   "id": "517279b3",
   "metadata": {},
   "outputs": [
    {
     "data": {
      "text/plain": [
       "2"
      ]
     },
     "execution_count": 21,
     "metadata": {},
     "output_type": "execute_result"
    }
   ],
   "source": [
    "model.n_iter_   #сколько было произведено итераций"
   ]
  },
  {
   "cell_type": "code",
   "execution_count": 22,
   "id": "b4b0727c",
   "metadata": {
    "scrolled": true
   },
   "outputs": [
    {
     "data": {
      "text/plain": [
       "array([0, 0, 0, 0, 0, 0, 0, 0, 0, 0, 0, 0, 0, 0, 0, 0, 0, 0, 0, 0, 0, 0,\n",
       "       0, 0, 0, 0, 0, 0, 0, 0, 0, 0, 0, 0, 0, 0, 0, 0, 0, 0, 0, 0, 0, 0,\n",
       "       0, 0, 0, 0, 0, 0, 0, 0, 0, 0, 0, 0, 0, 0, 0, 0, 0, 0, 0, 0, 0, 0,\n",
       "       0, 0, 0, 0, 0, 0, 0, 0, 0, 0, 0, 0, 0, 0, 0, 0, 0, 0, 0, 0, 0, 0,\n",
       "       0, 0, 0, 0, 0, 0, 0, 0, 0, 0, 0, 0, 0, 0, 0, 0, 0, 0, 0, 0, 0, 0,\n",
       "       2, 2, 2, 2, 2, 2, 2, 2, 2, 2, 2, 2, 2, 2, 2, 2, 2, 2, 2, 2, 2, 2,\n",
       "       2, 2, 2, 2, 2, 2, 2, 2, 2, 2, 2, 2, 2, 2, 2, 2, 2, 2, 2, 2, 2, 2,\n",
       "       2, 2, 2, 2, 2, 2, 2, 2, 2, 2, 2, 2, 2, 2, 2, 2, 2, 2, 2, 2, 2, 2,\n",
       "       2, 2, 2, 2, 2, 2, 2, 2, 2, 2, 2, 2, 2, 2, 2, 2, 2, 2, 2, 2, 2, 2,\n",
       "       2, 2, 2, 2, 2, 2, 2, 2, 2, 2, 2, 2, 2, 2, 2, 2, 2, 2, 2, 2, 3, 3,\n",
       "       3, 3, 3, 3, 3, 3, 3, 3, 3, 3, 3, 3, 3, 3, 3, 3, 3, 3, 3, 3, 3, 3,\n",
       "       3, 3, 3, 3, 3, 3, 3, 3, 3, 3, 3, 3, 3, 3, 3, 3, 3, 3, 3, 3, 3, 3,\n",
       "       3, 3, 3, 3, 3, 3, 3, 3, 3, 3, 3, 3, 3, 3, 3, 1, 1, 1, 1, 1, 1, 1,\n",
       "       1, 1, 1, 1, 1, 1, 1, 1, 1, 1, 1, 1, 1, 1, 1, 1, 1, 1, 1, 1, 1, 1,\n",
       "       1, 1, 1, 1, 1, 1, 1, 1, 1, 1, 1, 1, 1, 1, 1, 1, 1, 1, 1, 1, 1, 1,\n",
       "       1, 1, 1, 1, 1, 1, 1, 1])"
      ]
     },
     "execution_count": 22,
     "metadata": {},
     "output_type": "execute_result"
    }
   ],
   "source": [
    "model.labels_    #результаты кластеризации"
   ]
  },
  {
   "cell_type": "code",
   "execution_count": 8,
   "id": "3d3177ec",
   "metadata": {
    "scrolled": true
   },
   "outputs": [
    {
     "data": {
      "text/plain": [
       "array([[4.84545455, 4.8       , 4.83636364, 4.68181818, 3.03636364,\n",
       "        3.03636364, 3.        , 2.99090909, 3.07272727, 3.04545455,\n",
       "        3.04545455],\n",
       "       [2.82407407, 2.83333333, 2.76851852, 2.62037037, 2.61111111,\n",
       "        2.58333333, 2.75      , 2.91666667, 4.9537037 , 4.81481481,\n",
       "        4.86111111],\n",
       "       [3.        , 2.96610169, 2.96610169, 2.91525424, 2.91525424,\n",
       "        2.94915254, 4.91525424, 4.91525424, 3.        , 3.        ,\n",
       "        3.        ],\n",
       "       [3.        , 3.        , 3.        , 3.        , 4.85245902,\n",
       "        4.85245902, 3.        , 2.91803279, 2.75409836, 2.75409836,\n",
       "        2.75409836]])"
      ]
     },
     "execution_count": 8,
     "metadata": {},
     "output_type": "execute_result"
    }
   ],
   "source": [
    "model.cluster_centers_    #координаты центров кластеров"
   ]
  },
  {
   "cell_type": "code",
   "execution_count": 23,
   "id": "dc46d222",
   "metadata": {},
   "outputs": [
    {
     "name": "stderr",
     "output_type": "stream",
     "text": [
      "C:\\Users\\danil\\anaconda3\\lib\\site-packages\\sklearn\\cluster\\_kmeans.py:1036: UserWarning: KMeans is known to have a memory leak on Windows with MKL, when there are less chunks than available threads. You can avoid it by setting the environment variable OMP_NUM_THREADS=2.\n",
      "  warnings.warn(\n"
     ]
    },
    {
     "data": {
      "text/plain": [
       "Text(0.5, 1.0, 'График каменистой осыпи')"
      ]
     },
     "execution_count": 23,
     "metadata": {},
     "output_type": "execute_result"
    },
    {
     "data": {
      "image/png": "[encoded data removed]",
      "text/plain": [
       "<Figure size 600x600 with 1 Axes>"
      ]
     },
     "metadata": {},
     "output_type": "display_data"
    }
   ],
   "source": [
    "#сейчас необходимо провести кластеризацию с разным количеством кластеров, \n",
    "#а также определить наиболее подходящее количество кластеров с помощью \n",
    "#метода inertia_ (критерий качества Ws из лекций; сумма квадратов расстояний от точек до центров ближайшего кластера)\n",
    "#Необходимый итог - определение количества кластеров с низким Ws и небольшим количеством кластеров \n",
    "# (т.к. кол-во кластеров растёт, а Ws уменьшается)\n",
    "\n",
    "# Вычисляю значения критерия качества\n",
    "K = range(1,11)\n",
    "models = [KMeans(random_state = 42, verbose = 0, n_clusters = k).fit(df) for k in K]\n",
    "dist = [model.inertia_ for model in models]\n",
    "\n",
    "# Построение графика каменистой осыпи\n",
    "fg = plt.figure(figsize = (6,6))\n",
    "plt.plot(K, dist, marker = 'o', color = 'blue')\n",
    "plt.xlabel('Количество кластеров')\n",
    "plt.ylabel('Значение критерия качества')\n",
    "plt.title('График каменистой осыпи')"
   ]
  },
  {
   "cell_type": "markdown",
   "id": "b51faa6c",
   "metadata": {},
   "source": [
    "Таким образом, наиболее подходящее количество кластеров 4.\n",
    "Для подтверждения построю график Silhoette"
   ]
  },
  {
   "cell_type": "code",
   "execution_count": 10,
   "id": "e25e606e",
   "metadata": {},
   "outputs": [
    {
     "data": {
      "text/plain": [
       "Text(0, 0.5, 'Показатель Silhoette')"
      ]
     },
     "execution_count": 10,
     "metadata": {},
     "output_type": "execute_result"
    },
    {
     "data": {
      "image/png": "[encoded data removed]",
      "text/plain": [
       "<Figure size 640x480 with 1 Axes>"
      ]
     },
     "metadata": {},
     "output_type": "display_data"
    }
   ],
   "source": [
    "from sklearn.metrics import silhouette_score\n",
    "sil = []  #создаю список, куда буду вносить все значения показателя Силуэт \n",
    "for i in range(2,11): # начинаю с двух, так как silhouette_score требуется от 2 кластеров\n",
    "    model_1 = KMeans(random_state = 42, verbose = 0, n_clusters = i).fit(df)\n",
    "    score = silhouette_score(df, model_1.labels_)    # считаю показатель силуэт для определенного количества кластеров\n",
    "    sil.append(score)\n",
    "plt.plot(range(2,11), sil, marker = 'x', color = 'blue')\n",
    "plt.xlabel('Количество кластеров')\n",
    "plt.ylabel('Показатель Silhoette')"
   ]
  },
  {
   "cell_type": "code",
   "execution_count": 11,
   "id": "dea663a6",
   "metadata": {},
   "outputs": [
    {
     "data": {
      "text/plain": [
       "True"
      ]
     },
     "execution_count": 11,
     "metadata": {},
     "output_type": "execute_result"
    }
   ],
   "source": [
    "sil[2]>sil[5]   \n",
    "#сравниваю между собой значения показателя силуэт при количестве \n",
    "# кластеров, равному 4 и 7, так как на графике не чётко видно"
   ]
  },
  {
   "cell_type": "markdown",
   "id": "1963ad80",
   "metadata": {},
   "source": [
    "Таким образом, наиболее подходящее количество кластеров - 4"
   ]
  },
  {
   "cell_type": "code",
   "execution_count": 12,
   "id": "abc24c71",
   "metadata": {},
   "outputs": [
    {
     "data": {
      "text/plain": [
       "array([0, 1, 3, 2])"
      ]
     },
     "execution_count": 12,
     "metadata": {},
     "output_type": "execute_result"
    }
   ],
   "source": [
    "df['cluster'] = model.labels_\n",
    "df['cluster'].unique()"
   ]
  },
  {
   "cell_type": "code",
   "execution_count": 13,
   "id": "609620ea",
   "metadata": {},
   "outputs": [
    {
     "data": {
      "text/html": [
       "<div>\n",
       "<style scoped>\n",
       "    .dataframe tbody tr th:only-of-type {\n",
       "        vertical-align: middle;\n",
       "    }\n",
       "\n",
       "    .dataframe tbody tr th {\n",
       "        vertical-align: top;\n",
       "    }\n",
       "\n",
       "    .dataframe thead th {\n",
       "        text-align: right;\n",
       "    }\n",
       "</style>\n",
       "<table border=\"1\" class=\"dataframe\">\n",
       "  <thead>\n",
       "    <tr style=\"text-align: right;\">\n",
       "      <th></th>\n",
       "      <th>V1</th>\n",
       "      <th>V2</th>\n",
       "      <th>V3</th>\n",
       "      <th>V4</th>\n",
       "      <th>V5</th>\n",
       "      <th>V6</th>\n",
       "      <th>V7</th>\n",
       "      <th>V8</th>\n",
       "      <th>V9</th>\n",
       "      <th>V10</th>\n",
       "      <th>V11</th>\n",
       "    </tr>\n",
       "    <tr>\n",
       "      <th>cluster</th>\n",
       "      <th></th>\n",
       "      <th></th>\n",
       "      <th></th>\n",
       "      <th></th>\n",
       "      <th></th>\n",
       "      <th></th>\n",
       "      <th></th>\n",
       "      <th></th>\n",
       "      <th></th>\n",
       "      <th></th>\n",
       "      <th></th>\n",
       "    </tr>\n",
       "  </thead>\n",
       "  <tbody>\n",
       "    <tr>\n",
       "      <th>0</th>\n",
       "      <td>4.845455</td>\n",
       "      <td>4.800000</td>\n",
       "      <td>4.836364</td>\n",
       "      <td>4.681818</td>\n",
       "      <td>3.036364</td>\n",
       "      <td>3.036364</td>\n",
       "      <td>3.000000</td>\n",
       "      <td>2.990909</td>\n",
       "      <td>3.072727</td>\n",
       "      <td>3.045455</td>\n",
       "      <td>3.045455</td>\n",
       "    </tr>\n",
       "    <tr>\n",
       "      <th>1</th>\n",
       "      <td>2.824074</td>\n",
       "      <td>2.833333</td>\n",
       "      <td>2.768519</td>\n",
       "      <td>2.620370</td>\n",
       "      <td>2.611111</td>\n",
       "      <td>2.583333</td>\n",
       "      <td>2.750000</td>\n",
       "      <td>2.916667</td>\n",
       "      <td>4.953704</td>\n",
       "      <td>4.814815</td>\n",
       "      <td>4.861111</td>\n",
       "    </tr>\n",
       "    <tr>\n",
       "      <th>2</th>\n",
       "      <td>3.000000</td>\n",
       "      <td>2.966102</td>\n",
       "      <td>2.966102</td>\n",
       "      <td>2.915254</td>\n",
       "      <td>2.915254</td>\n",
       "      <td>2.949153</td>\n",
       "      <td>4.915254</td>\n",
       "      <td>4.915254</td>\n",
       "      <td>3.000000</td>\n",
       "      <td>3.000000</td>\n",
       "      <td>3.000000</td>\n",
       "    </tr>\n",
       "    <tr>\n",
       "      <th>3</th>\n",
       "      <td>3.000000</td>\n",
       "      <td>3.000000</td>\n",
       "      <td>3.000000</td>\n",
       "      <td>3.000000</td>\n",
       "      <td>4.852459</td>\n",
       "      <td>4.852459</td>\n",
       "      <td>3.000000</td>\n",
       "      <td>2.918033</td>\n",
       "      <td>2.754098</td>\n",
       "      <td>2.754098</td>\n",
       "      <td>2.754098</td>\n",
       "    </tr>\n",
       "  </tbody>\n",
       "</table>\n",
       "</div>"
      ],
      "text/plain": [
       "               V1        V2        V3        V4        V5        V6        V7  \\\n",
       "cluster                                                                         \n",
       "0        4.845455  4.800000  4.836364  4.681818  3.036364  3.036364  3.000000   \n",
       "1        2.824074  2.833333  2.768519  2.620370  2.611111  2.583333  2.750000   \n",
       "2        3.000000  2.966102  2.966102  2.915254  2.915254  2.949153  4.915254   \n",
       "3        3.000000  3.000000  3.000000  3.000000  4.852459  4.852459  3.000000   \n",
       "\n",
       "               V8        V9       V10       V11  \n",
       "cluster                                          \n",
       "0        2.990909  3.072727  3.045455  3.045455  \n",
       "1        2.916667  4.953704  4.814815  4.861111  \n",
       "2        4.915254  3.000000  3.000000  3.000000  \n",
       "3        2.918033  2.754098  2.754098  2.754098  "
      ]
     },
     "execution_count": 13,
     "metadata": {},
     "output_type": "execute_result"
    }
   ],
   "source": [
    "df.groupby('cluster').mean() # определяю среднее по каждому кластеру"
   ]
  },
  {
   "cell_type": "code",
   "execution_count": 14,
   "id": "838e1500",
   "metadata": {},
   "outputs": [
    {
     "data": {
      "text/plain": [
       "array([[4.84545455, 4.8       , 4.83636364, 4.68181818, 3.03636364,\n",
       "        3.03636364, 3.        , 2.99090909, 3.07272727, 3.04545455,\n",
       "        3.04545455],\n",
       "       [2.82407407, 2.83333333, 2.76851852, 2.62037037, 2.61111111,\n",
       "        2.58333333, 2.75      , 2.91666667, 4.9537037 , 4.81481481,\n",
       "        4.86111111],\n",
       "       [3.        , 2.96610169, 2.96610169, 2.91525424, 2.91525424,\n",
       "        2.94915254, 4.91525424, 4.91525424, 3.        , 3.        ,\n",
       "        3.        ],\n",
       "       [3.        , 3.        , 3.        , 3.        , 4.85245902,\n",
       "        4.85245902, 3.        , 2.91803279, 2.75409836, 2.75409836,\n",
       "        2.75409836]])"
      ]
     },
     "execution_count": 14,
     "metadata": {},
     "output_type": "execute_result"
    }
   ],
   "source": [
    "model.cluster_centers_   #координаты центров кластеров\n",
    "# полученные значения средних по кластерам совпадают с координатами центров кластеров"
   ]
  },
  {
   "cell_type": "markdown",
   "id": "ff204a5a",
   "metadata": {},
   "source": [
    "### ИТОГОВОЕ РАСПРЕДЕЛЕНИЕ РЕСПОНДЕНТОВ\n",
    "1 кластер - для свежести дыхания, избавления от неприятного запаха  \n",
    "2 кластер - для лечения заболеваний горла и носа  \n",
    "3 кластер - для концентрации мыслей на конкретной задаче  \n",
    "4 кластер - используют леденцы для замены сладких десертов  "
   ]
  },
  {
   "cell_type": "code",
   "execution_count": 15,
   "id": "4e554cac",
   "metadata": {},
   "outputs": [
    {
     "name": "stderr",
     "output_type": "stream",
     "text": [
      "C:\\Users\\danil\\anaconda3\\lib\\site-packages\\sklearn\\base.py:450: UserWarning: X does not have valid feature names, but KMeans was fitted with feature names\n",
      "  warnings.warn(\n"
     ]
    },
    {
     "data": {
      "text/plain": [
       "array([2, 0])"
      ]
     },
     "execution_count": 15,
     "metadata": {},
     "output_type": "execute_result"
    }
   ],
   "source": [
    "new_items = [[3,3,3,3,3,3,4,4,3,3,3],[4,4,4,4,3,3,3,3,3,3,3]]\n",
    "model.predict(new_items)   #метод, позволяющий определить: к какому кластеру будет отнесён объект"
   ]
  },
  {
   "cell_type": "code",
   "execution_count": 16,
   "id": "500acb5a",
   "metadata": {},
   "outputs": [
    {
     "data": {
      "text/plain": [
       "cluster\n",
       "0    110\n",
       "1    108\n",
       "2     59\n",
       "3     61\n",
       "dtype: int64"
      ]
     },
     "execution_count": 16,
     "metadata": {},
     "output_type": "execute_result"
    }
   ],
   "source": [
    "df.groupby('cluster').size()"
   ]
  },
  {
   "cell_type": "markdown",
   "id": "9d848acb",
   "metadata": {},
   "source": [
    "##### Результаты иерархического кластерного анализа\n",
    "1    108  \n",
    "2    110  \n",
    "3     59  \n",
    "4     61  \n",
    "\n",
    "ИТОГО: имеется небольшое отличие в количестве респондентов, попавших в 1 и 2 кластеры. По методу KMeans в первом кластере на 2 респондента больше"
   ]
  },
  {
   "cell_type": "markdown",
   "id": "c847f5f2",
   "metadata": {},
   "source": [
    "### Вопрос\n",
    "Почему по некоторым признакам пишет несовпадение (False) при автоматическом сравнении через '=='"
   ]
  },
  {
   "cell_type": "code",
   "execution_count": 17,
   "id": "1ec3a61a",
   "metadata": {},
   "outputs": [
    {
     "data": {
      "text/plain": [
       "array([[False, False, False,  True,  True,  True,  True, False, False,\n",
       "        False, False],\n",
       "       [ True,  True, False,  True, False, False, False, False, False,\n",
       "        False,  True],\n",
       "       [False, False, False, False,  True,  True, False, False, False,\n",
       "        False, False],\n",
       "       [ True,  True, False,  True, False, False,  True,  True, False,\n",
       "         True, False]])"
      ]
     },
     "execution_count": 17,
     "metadata": {},
     "output_type": "execute_result"
    }
   ],
   "source": [
    "import numpy as np\n",
    "np.array(df.groupby('cluster').mean()) == model.cluster_centers_"
   ]
  }
 ],
 "metadata": {
  "kernelspec": {
   "display_name": "Python 3 (ipykernel)",
   "language": "python",
   "name": "python3"
  },
  "language_info": {
   "codemirror_mode": {
    "name": "ipython",
    "version": 3
   },
   "file_extension": ".py",
   "mimetype": "text/x-python",
   "name": "python",
   "nbconvert_exporter": "python",
   "pygments_lexer": "ipython3",
   "version": "3.9.13"
  }
 },
 "nbformat": 4,
 "nbformat_minor": 5
}
